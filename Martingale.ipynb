{
  "nbformat": 4,
  "nbformat_minor": 0,
  "metadata": {
    "colab": {
      "provenance": [],
      "authorship_tag": "ABX9TyPSXxghhqZeeszgNl2tChru",
      "include_colab_link": true
    },
    "kernelspec": {
      "name": "python3",
      "display_name": "Python 3"
    },
    "language_info": {
      "name": "python"
    }
  },
  "cells": [
    {
      "cell_type": "markdown",
      "metadata": {
        "id": "view-in-github",
        "colab_type": "text"
      },
      "source": [
        "<a href=\"https://colab.research.google.com/github/newmantic/Martingale/blob/main/Martingale.ipynb\" target=\"_parent\"><img src=\"https://colab.research.google.com/assets/colab-badge.svg\" alt=\"Open In Colab\"/></a>"
      ]
    },
    {
      "cell_type": "code",
      "execution_count": 1,
      "metadata": {
        "colab": {
          "base_uri": "https://localhost:8080/"
        },
        "id": "lVIp5jjps86F",
        "outputId": "90897791-f095-4c4a-fd31-29fc31044cfd"
      },
      "outputs": [
        {
          "output_type": "stream",
          "name": "stdout",
          "text": [
            "Final stake: -2\n",
            "Total bets: 53\n",
            "Target reached: False\n"
          ]
        }
      ],
      "source": [
        "import numpy as np\n",
        "\n",
        "def martingale_simulation(initial_stake, target, probability_win, max_bets):\n",
        "    \"\"\"\n",
        "    Simulate a Martingale betting strategy.\n",
        "\n",
        "    Parameters:\n",
        "    initial_stake (float): The initial amount of money the gambler starts with.\n",
        "    target (float): The target amount of money the gambler wants to reach.\n",
        "    probability_win (float): The probability of winning each bet.\n",
        "    max_bets (int): The maximum number of bets allowed in the simulation.\n",
        "\n",
        "    Returns:\n",
        "    float: The final amount of money after the simulation.\n",
        "    int: The number of bets made in the simulation.\n",
        "    bool: Whether the target was reached or the gambler was ruined.\n",
        "    \"\"\"\n",
        "    stake = initial_stake\n",
        "    bet_size = 1  # Initial bet size\n",
        "    bets = 0\n",
        "\n",
        "    while stake > 0 and stake < target and bets < max_bets:\n",
        "        if np.random.rand() < probability_win:\n",
        "            stake += bet_size  # Win: increase stake by bet size\n",
        "            bet_size = 1  # Reset bet size\n",
        "        else:\n",
        "            stake -= bet_size  # Lose: decrease stake by bet size\n",
        "            bet_size *= 2  # Double the bet size\n",
        "        bets += 1\n",
        "\n",
        "    return stake, bets, stake >= target\n",
        "\n",
        "# Testable example:\n",
        "initial_stake = 100\n",
        "target = 200\n",
        "probability_win = 0.5\n",
        "max_bets = 1000\n",
        "\n",
        "final_stake, total_bets, target_reached = martingale_simulation(initial_stake, target, probability_win, max_bets)\n",
        "print(f\"Final stake: {final_stake}\")\n",
        "print(f\"Total bets: {total_bets}\")\n",
        "print(f\"Target reached: {target_reached}\")"
      ]
    },
    {
      "cell_type": "code",
      "source": [
        "# Multiple simulations\n",
        "n_simulations = 1000\n",
        "success_count = 0\n",
        "final_stakes = []\n",
        "\n",
        "for _ in range(n_simulations):\n",
        "    final_stake, total_bets, target_reached = martingale_simulation(initial_stake, target, probability_win, max_bets)\n",
        "    final_stakes.append(final_stake)\n",
        "    if target_reached:\n",
        "        success_count += 1\n",
        "\n",
        "average_final_stake = np.mean(final_stakes)\n",
        "print(f\"Average final stake after {n_simulations} simulations: {average_final_stake}\")\n",
        "print(f\"Number of times target was reached: {success_count}/{n_simulations}\")"
      ],
      "metadata": {
        "colab": {
          "base_uri": "https://localhost:8080/"
        },
        "id": "f6bEMrXrtNAo",
        "outputId": "919c4fbe-4786-431e-a792-c162667dc7b6"
      },
      "execution_count": 2,
      "outputs": [
        {
          "output_type": "stream",
          "name": "stdout",
          "text": [
            "Average final stake after 1000 simulations: 96.788\n",
            "Number of times target was reached: 592/1000\n"
          ]
        }
      ]
    }
  ]
}